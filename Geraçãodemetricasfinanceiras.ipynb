{
  "nbformat": 4,
  "nbformat_minor": 0,
  "metadata": {
    "colab": {
      "provenance": [],
      "authorship_tag": "ABX9TyO64u+S7BW4krVEt8CGudaT",
      "include_colab_link": true
    },
    "kernelspec": {
      "name": "python3",
      "display_name": "Python 3"
    },
    "language_info": {
      "name": "python"
    }
  },
  "cells": [
    {
      "cell_type": "markdown",
      "metadata": {
        "id": "view-in-github",
        "colab_type": "text"
      },
      "source": [
        "<a href=\"https://colab.research.google.com/github/ellenbeatryzbarone/Portfolio/blob/main/Gera%C3%A7%C3%A3odemetricasfinanceiras.ipynb\" target=\"_parent\"><img src=\"https://colab.research.google.com/assets/colab-badge.svg\" alt=\"Open In Colab\"/></a>"
      ]
    },
    {
      "cell_type": "code",
      "execution_count": null,
      "metadata": {
        "id": "K3Wvyte8m54P"
      },
      "outputs": [],
      "source": [
        "import matplotlib.pyplot as plt\n",
        "import numpy as np\n",
        "from sklearn.linear_model import LinearRegression\n",
        "\n",
        "# Função para obter os valores mensais do usuário\n",
        "def coletar_dados_anuais():\n",
        "    valores_mensais = []\n",
        "    print(\"Insira os valores mensais da empresa para cada um dos 12 meses:\")\n",
        "    for i in range(1, 13):\n",
        "        valor = float(input(f\"Mês {i}: \"))\n",
        "        valores_mensais.append(valor)\n",
        "    return valores_mensais\n",
        "\n",
        "# Função para plotar o gráfico dos valores mensais\n",
        "def plotar_grafico(valores, previsao=None):\n",
        "    meses = [\n",
        "        \"Janeiro\", \"Fevereiro\", \"Março\", \"Abril\", \"Maio\", \"Junho\",\n",
        "        \"Julho\", \"Agosto\", \"Setembro\", \"Outubro\", \"Novembro\", \"Dezembro\"\n",
        "    ]\n",
        "    plt.figure(figsize=(10, 5))\n",
        "    plt.plot(meses, valores, marker='o', linestyle='-', label='Valores atuais')\n",
        "\n",
        "    if previsao is not None:\n",
        "        # Adiciona pontuação para o próximo mês\n",
        "        meses_futuros = [\"Próximo Ano\"]\n",
        "        plt.plot(meses_futuros, [previsao], marker='o', color='red', markersize=10, label='Previsão próximo ano')\n",
        "\n",
        "    plt.title(\"Desempenho Mensal da Empresa\")\n",
        "    plt.xlabel(\"Mês\")\n",
        "    plt.ylabel(\"Valor Total (R$)\")\n",
        "    plt.legend()\n",
        "    plt.grid()\n",
        "    plt.show()\n",
        "\n",
        "# Programa principal\n",
        "valores_mensais = coletar_dados_anuais()\n",
        "plotar_grafico(valores_mensais)\n",
        "\n",
        "# Preparar dados para previsão com regressão linear\n",
        "meses_numero = np.array(range(1, 13)).reshape(-1, 1)  # Transformar em matriz 2D\n",
        "valores = np.array(valores_mensais)\n",
        "\n",
        "# Treinando o modelo de regressão linear\n",
        "modelo = LinearRegression()\n",
        "modelo.fit(meses_numero, valores)\n",
        "\n",
        "# Previsão para o próximo mês (considerando o próximo ano)\n",
        "mes_proximo = np.array([[13]])\n",
        "previsao_ano = modelo.predict(mes_proximo)\n",
        "\n",
        "print(f\"Previsão para o próximo mês (ano seguinte): R$ {previsao_ano[0]:.2f}\")\n",
        "\n",
        "# Plotar o gráfico com a previsão\n",
        "plotar_grafico(valores_mensais, previsao=previsao_ano[0])"
      ]
    }
  ]
}