{
  "nbformat": 4,
  "nbformat_minor": 0,
  "metadata": {
    "colab": {
      "provenance": [],
      "gpuType": "T4",
      "authorship_tag": "ABX9TyMsd5FSVeQUeG+LBbwtovDR",
      "include_colab_link": true
    },
    "kernelspec": {
      "name": "python3",
      "display_name": "Python 3"
    },
    "language_info": {
      "name": "python"
    },
    "accelerator": "GPU"
  },
  "cells": [
    {
      "cell_type": "markdown",
      "metadata": {
        "id": "view-in-github",
        "colab_type": "text"
      },
      "source": [
        "<a href=\"https://colab.research.google.com/github/ellenbeatryzbarone/Portfolio/blob/main/Perceptron_usando_C%2B%2B.ipynb\" target=\"_parent\"><img src=\"https://colab.research.google.com/assets/colab-badge.svg\" alt=\"Open In Colab\"/></a>"
      ]
    },
    {
      "cell_type": "code",
      "source": [
        "%%writefile perceptron_energia.cpp\n"
      ],
      "metadata": {
        "colab": {
          "base_uri": "https://localhost:8080/"
        },
        "id": "xhZU57JJXzw6",
        "outputId": "823e1019-75dd-4f06-ec7c-b50d07fe2104"
      },
      "execution_count": 1,
      "outputs": [
        {
          "output_type": "stream",
          "name": "stdout",
          "text": [
            "Writing perceptron_energia.cpp\n"
          ]
        }
      ]
    },
    {
      "cell_type": "code",
      "source": [
        "%%writefile perceptron_energia.cpp\n",
        "#include <iostream>\n",
        "#include <vector>\n",
        "#include <cstdlib>\n",
        "#include <ctime>\n",
        "\n",
        "using namespace std;\n",
        "\n",
        "// Função de ativação degrau\n",
        "int step(double x) {\n",
        "    return (x >= 0) ? 1 : 0;\n",
        "}\n",
        "\n",
        "int main() {\n",
        "    srand(time(0));\n",
        "\n",
        "    // Dados de entrada: média de sinais DC e AC\n",
        "    vector<vector<double>> inputs = {\n",
        "        {5.0},  // Sinal DC: valor constante\n",
        "        {5.2},\n",
        "        {4.8},\n",
        "        {4.9},\n",
        "        {5.1},\n",
        "        {20.0}, // Sinal AC: valor variável\n",
        "        {22.0},\n",
        "        {19.5},\n",
        "        {21.0},\n",
        "        {20.5}\n",
        "    };\n",
        "\n",
        "    // Labels: 0 para DC, 1 para AC\n",
        "    vector<int> labels = {0, 0, 0, 0, 0, 1, 1, 1, 1, 1};\n",
        "\n",
        "    double peso = 0.0;    // peso inicial\n",
        "    double bias = 0.0;    // viés inicial\n",
        "    double taxa_aprendizado = 0.1;\n",
        "    int epocas = 10;\n",
        "\n",
        "    // Treinamento\n",
        "    for (int e = 0; e < epocas; e++) {\n",
        "        cout << \"Época: \" << e+1 << endl;\n",
        "        for (int i = 0; i < inputs.size(); i++) {\n",
        "            double v = peso * inputs[i][0] + bias;\n",
        "            int y_pred = step(v);\n",
        "            int erro = labels[i] - y_pred;\n",
        "\n",
        "            // Atualização dos pesos\n",
        "            peso += taxa_aprendizado * erro * inputs[i][0];\n",
        "            bias += taxa_aprendizado * erro;\n",
        "\n",
        "            cout << \"Entrada: \" << inputs[i][0]\n",
        "                 << \" | Previsto: \" << y_pred\n",
        "                 << \" | Real: \" << labels[i]\n",
        "                 << \" | Peso: \" << peso\n",
        "                 << \" | Viés: \" << bias << endl;\n",
        "        }\n",
        "        cout << \"------------------------------------\" << endl;\n",
        "    }\n",
        "\n",
        "    // Teste\n",
        "    cout << \"\\nTestando o perceptron treinado:\\n\";\n",
        "    vector<double> test_data = {5.0, 20.0, 4.7, 21.5};\n",
        "    for (double val : test_data) {\n",
        "        double v = peso * val + bias;\n",
        "        int y = step(v);\n",
        "        cout << \"Sinal com média \" << val << \" classificado como: \"\n",
        "             << (y == 0 ? \"DC\" : \"AC\") << endl;\n",
        "    }\n",
        "\n",
        "    return 0;\n",
        "}"
      ],
      "metadata": {
        "colab": {
          "base_uri": "https://localhost:8080/"
        },
        "id": "Dy7LByDqX_v_",
        "outputId": "baa62167-0730-4417-c4db-b74970bea79b"
      },
      "execution_count": 2,
      "outputs": [
        {
          "output_type": "stream",
          "name": "stdout",
          "text": [
            "Overwriting perceptron_energia.cpp\n"
          ]
        }
      ]
    },
    {
      "cell_type": "code",
      "source": [
        "!g++ perceptron_energia.cpp -o perceptron\n",
        "!./perceptron"
      ],
      "metadata": {
        "colab": {
          "base_uri": "https://localhost:8080/"
        },
        "id": "O_9DPkTsYEAo",
        "outputId": "d6ccf789-1de5-4b67-f1ac-95a55f479b58"
      },
      "execution_count": 3,
      "outputs": [
        {
          "output_type": "stream",
          "name": "stdout",
          "text": [
            "Época: 1\n",
            "Entrada: 5 | Previsto: 1 | Real: 0 | Peso: -0.5 | Viés: -0.1\n",
            "Entrada: 5.2 | Previsto: 0 | Real: 0 | Peso: -0.5 | Viés: -0.1\n",
            "Entrada: 4.8 | Previsto: 0 | Real: 0 | Peso: -0.5 | Viés: -0.1\n",
            "Entrada: 4.9 | Previsto: 0 | Real: 0 | Peso: -0.5 | Viés: -0.1\n",
            "Entrada: 5.1 | Previsto: 0 | Real: 0 | Peso: -0.5 | Viés: -0.1\n",
            "Entrada: 20 | Previsto: 0 | Real: 1 | Peso: 1.5 | Viés: 0\n",
            "Entrada: 22 | Previsto: 1 | Real: 1 | Peso: 1.5 | Viés: 0\n",
            "Entrada: 19.5 | Previsto: 1 | Real: 1 | Peso: 1.5 | Viés: 0\n",
            "Entrada: 21 | Previsto: 1 | Real: 1 | Peso: 1.5 | Viés: 0\n",
            "Entrada: 20.5 | Previsto: 1 | Real: 1 | Peso: 1.5 | Viés: 0\n",
            "------------------------------------\n",
            "Época: 2\n",
            "Entrada: 5 | Previsto: 1 | Real: 0 | Peso: 1 | Viés: -0.1\n",
            "Entrada: 5.2 | Previsto: 1 | Real: 0 | Peso: 0.48 | Viés: -0.2\n",
            "Entrada: 4.8 | Previsto: 1 | Real: 0 | Peso: 0 | Viés: -0.3\n",
            "Entrada: 4.9 | Previsto: 0 | Real: 0 | Peso: 0 | Viés: -0.3\n",
            "Entrada: 5.1 | Previsto: 0 | Real: 0 | Peso: 0 | Viés: -0.3\n",
            "Entrada: 20 | Previsto: 0 | Real: 1 | Peso: 2 | Viés: -0.2\n",
            "Entrada: 22 | Previsto: 1 | Real: 1 | Peso: 2 | Viés: -0.2\n",
            "Entrada: 19.5 | Previsto: 1 | Real: 1 | Peso: 2 | Viés: -0.2\n",
            "Entrada: 21 | Previsto: 1 | Real: 1 | Peso: 2 | Viés: -0.2\n",
            "Entrada: 20.5 | Previsto: 1 | Real: 1 | Peso: 2 | Viés: -0.2\n",
            "------------------------------------\n",
            "Época: 3\n",
            "Entrada: 5 | Previsto: 1 | Real: 0 | Peso: 1.5 | Viés: -0.3\n",
            "Entrada: 5.2 | Previsto: 1 | Real: 0 | Peso: 0.98 | Viés: -0.4\n",
            "Entrada: 4.8 | Previsto: 1 | Real: 0 | Peso: 0.5 | Viés: -0.5\n",
            "Entrada: 4.9 | Previsto: 1 | Real: 0 | Peso: 0.01 | Viés: -0.6\n",
            "Entrada: 5.1 | Previsto: 0 | Real: 0 | Peso: 0.01 | Viés: -0.6\n",
            "Entrada: 20 | Previsto: 0 | Real: 1 | Peso: 2.01 | Viés: -0.5\n",
            "Entrada: 22 | Previsto: 1 | Real: 1 | Peso: 2.01 | Viés: -0.5\n",
            "Entrada: 19.5 | Previsto: 1 | Real: 1 | Peso: 2.01 | Viés: -0.5\n",
            "Entrada: 21 | Previsto: 1 | Real: 1 | Peso: 2.01 | Viés: -0.5\n",
            "Entrada: 20.5 | Previsto: 1 | Real: 1 | Peso: 2.01 | Viés: -0.5\n",
            "------------------------------------\n",
            "Época: 4\n",
            "Entrada: 5 | Previsto: 1 | Real: 0 | Peso: 1.51 | Viés: -0.6\n",
            "Entrada: 5.2 | Previsto: 1 | Real: 0 | Peso: 0.99 | Viés: -0.7\n",
            "Entrada: 4.8 | Previsto: 1 | Real: 0 | Peso: 0.51 | Viés: -0.8\n",
            "Entrada: 4.9 | Previsto: 1 | Real: 0 | Peso: 0.02 | Viés: -0.9\n",
            "Entrada: 5.1 | Previsto: 0 | Real: 0 | Peso: 0.02 | Viés: -0.9\n",
            "Entrada: 20 | Previsto: 0 | Real: 1 | Peso: 2.02 | Viés: -0.8\n",
            "Entrada: 22 | Previsto: 1 | Real: 1 | Peso: 2.02 | Viés: -0.8\n",
            "Entrada: 19.5 | Previsto: 1 | Real: 1 | Peso: 2.02 | Viés: -0.8\n",
            "Entrada: 21 | Previsto: 1 | Real: 1 | Peso: 2.02 | Viés: -0.8\n",
            "Entrada: 20.5 | Previsto: 1 | Real: 1 | Peso: 2.02 | Viés: -0.8\n",
            "------------------------------------\n",
            "Época: 5\n",
            "Entrada: 5 | Previsto: 1 | Real: 0 | Peso: 1.52 | Viés: -0.9\n",
            "Entrada: 5.2 | Previsto: 1 | Real: 0 | Peso: 1 | Viés: -1\n",
            "Entrada: 4.8 | Previsto: 1 | Real: 0 | Peso: 0.52 | Viés: -1.1\n",
            "Entrada: 4.9 | Previsto: 1 | Real: 0 | Peso: 0.03 | Viés: -1.2\n",
            "Entrada: 5.1 | Previsto: 0 | Real: 0 | Peso: 0.03 | Viés: -1.2\n",
            "Entrada: 20 | Previsto: 0 | Real: 1 | Peso: 2.03 | Viés: -1.1\n",
            "Entrada: 22 | Previsto: 1 | Real: 1 | Peso: 2.03 | Viés: -1.1\n",
            "Entrada: 19.5 | Previsto: 1 | Real: 1 | Peso: 2.03 | Viés: -1.1\n",
            "Entrada: 21 | Previsto: 1 | Real: 1 | Peso: 2.03 | Viés: -1.1\n",
            "Entrada: 20.5 | Previsto: 1 | Real: 1 | Peso: 2.03 | Viés: -1.1\n",
            "------------------------------------\n",
            "Época: 6\n",
            "Entrada: 5 | Previsto: 1 | Real: 0 | Peso: 1.53 | Viés: -1.2\n",
            "Entrada: 5.2 | Previsto: 1 | Real: 0 | Peso: 1.01 | Viés: -1.3\n",
            "Entrada: 4.8 | Previsto: 1 | Real: 0 | Peso: 0.53 | Viés: -1.4\n",
            "Entrada: 4.9 | Previsto: 1 | Real: 0 | Peso: 0.04 | Viés: -1.5\n",
            "Entrada: 5.1 | Previsto: 0 | Real: 0 | Peso: 0.04 | Viés: -1.5\n",
            "Entrada: 20 | Previsto: 0 | Real: 1 | Peso: 2.04 | Viés: -1.4\n",
            "Entrada: 22 | Previsto: 1 | Real: 1 | Peso: 2.04 | Viés: -1.4\n",
            "Entrada: 19.5 | Previsto: 1 | Real: 1 | Peso: 2.04 | Viés: -1.4\n",
            "Entrada: 21 | Previsto: 1 | Real: 1 | Peso: 2.04 | Viés: -1.4\n",
            "Entrada: 20.5 | Previsto: 1 | Real: 1 | Peso: 2.04 | Viés: -1.4\n",
            "------------------------------------\n",
            "Época: 7\n",
            "Entrada: 5 | Previsto: 1 | Real: 0 | Peso: 1.54 | Viés: -1.5\n",
            "Entrada: 5.2 | Previsto: 1 | Real: 0 | Peso: 1.02 | Viés: -1.6\n",
            "Entrada: 4.8 | Previsto: 1 | Real: 0 | Peso: 0.54 | Viés: -1.7\n",
            "Entrada: 4.9 | Previsto: 1 | Real: 0 | Peso: 0.05 | Viés: -1.8\n",
            "Entrada: 5.1 | Previsto: 0 | Real: 0 | Peso: 0.05 | Viés: -1.8\n",
            "Entrada: 20 | Previsto: 0 | Real: 1 | Peso: 2.05 | Viés: -1.7\n",
            "Entrada: 22 | Previsto: 1 | Real: 1 | Peso: 2.05 | Viés: -1.7\n",
            "Entrada: 19.5 | Previsto: 1 | Real: 1 | Peso: 2.05 | Viés: -1.7\n",
            "Entrada: 21 | Previsto: 1 | Real: 1 | Peso: 2.05 | Viés: -1.7\n",
            "Entrada: 20.5 | Previsto: 1 | Real: 1 | Peso: 2.05 | Viés: -1.7\n",
            "------------------------------------\n",
            "Época: 8\n",
            "Entrada: 5 | Previsto: 1 | Real: 0 | Peso: 1.55 | Viés: -1.8\n",
            "Entrada: 5.2 | Previsto: 1 | Real: 0 | Peso: 1.03 | Viés: -1.9\n",
            "Entrada: 4.8 | Previsto: 1 | Real: 0 | Peso: 0.55 | Viés: -2\n",
            "Entrada: 4.9 | Previsto: 1 | Real: 0 | Peso: 0.06 | Viés: -2.1\n",
            "Entrada: 5.1 | Previsto: 0 | Real: 0 | Peso: 0.06 | Viés: -2.1\n",
            "Entrada: 20 | Previsto: 0 | Real: 1 | Peso: 2.06 | Viés: -2\n",
            "Entrada: 22 | Previsto: 1 | Real: 1 | Peso: 2.06 | Viés: -2\n",
            "Entrada: 19.5 | Previsto: 1 | Real: 1 | Peso: 2.06 | Viés: -2\n",
            "Entrada: 21 | Previsto: 1 | Real: 1 | Peso: 2.06 | Viés: -2\n",
            "Entrada: 20.5 | Previsto: 1 | Real: 1 | Peso: 2.06 | Viés: -2\n",
            "------------------------------------\n",
            "Época: 9\n",
            "Entrada: 5 | Previsto: 1 | Real: 0 | Peso: 1.56 | Viés: -2.1\n",
            "Entrada: 5.2 | Previsto: 1 | Real: 0 | Peso: 1.04 | Viés: -2.2\n",
            "Entrada: 4.8 | Previsto: 1 | Real: 0 | Peso: 0.56 | Viés: -2.3\n",
            "Entrada: 4.9 | Previsto: 1 | Real: 0 | Peso: 0.07 | Viés: -2.4\n",
            "Entrada: 5.1 | Previsto: 0 | Real: 0 | Peso: 0.07 | Viés: -2.4\n",
            "Entrada: 20 | Previsto: 0 | Real: 1 | Peso: 2.07 | Viés: -2.3\n",
            "Entrada: 22 | Previsto: 1 | Real: 1 | Peso: 2.07 | Viés: -2.3\n",
            "Entrada: 19.5 | Previsto: 1 | Real: 1 | Peso: 2.07 | Viés: -2.3\n",
            "Entrada: 21 | Previsto: 1 | Real: 1 | Peso: 2.07 | Viés: -2.3\n",
            "Entrada: 20.5 | Previsto: 1 | Real: 1 | Peso: 2.07 | Viés: -2.3\n",
            "------------------------------------\n",
            "Época: 10\n",
            "Entrada: 5 | Previsto: 1 | Real: 0 | Peso: 1.57 | Viés: -2.4\n",
            "Entrada: 5.2 | Previsto: 1 | Real: 0 | Peso: 1.05 | Viés: -2.5\n",
            "Entrada: 4.8 | Previsto: 1 | Real: 0 | Peso: 0.57 | Viés: -2.6\n",
            "Entrada: 4.9 | Previsto: 1 | Real: 0 | Peso: 0.08 | Viés: -2.7\n",
            "Entrada: 5.1 | Previsto: 0 | Real: 0 | Peso: 0.08 | Viés: -2.7\n",
            "Entrada: 20 | Previsto: 0 | Real: 1 | Peso: 2.08 | Viés: -2.6\n",
            "Entrada: 22 | Previsto: 1 | Real: 1 | Peso: 2.08 | Viés: -2.6\n",
            "Entrada: 19.5 | Previsto: 1 | Real: 1 | Peso: 2.08 | Viés: -2.6\n",
            "Entrada: 21 | Previsto: 1 | Real: 1 | Peso: 2.08 | Viés: -2.6\n",
            "Entrada: 20.5 | Previsto: 1 | Real: 1 | Peso: 2.08 | Viés: -2.6\n",
            "------------------------------------\n",
            "\n",
            "Testando o perceptron treinado:\n",
            "Sinal com média 5 classificado como: AC\n",
            "Sinal com média 20 classificado como: AC\n",
            "Sinal com média 4.7 classificado como: AC\n",
            "Sinal com média 21.5 classificado como: AC\n"
          ]
        }
      ]
    }
  ]
}